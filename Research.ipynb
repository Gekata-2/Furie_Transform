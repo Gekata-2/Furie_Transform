{
 "cells": [
  {
   "cell_type": "code",
   "execution_count": null,
   "metadata": {},
   "outputs": [],
   "source": [
    "import FileWorker as FW\n",
    "import DFFT \n",
    "import Filters as filt\n",
    "import Visualisation as vs\n",
    "import os"
   ]
  },
  {
   "cell_type": "code",
   "execution_count": null,
   "metadata": {},
   "outputs": [],
   "source": [
    "fw=FW.FileWorker()"
   ]
  },
  {
   "cell_type": "code",
   "execution_count": null,
   "metadata": {},
   "outputs": [],
   "source": [
    "dir_path='stripes'\n",
    "for image_path in fw.ReadAll(dir_path+os.path.sep):\n",
    "    print(image_path)\n",
    "    img=fw.ReadImg(os.path.join(dir_path,image_path) )\n",
    "    fft_image=DFFT.ApplyDFFT(img)\n",
    "    vs.ShowDFFT(img,fft_image,image_path,save=True)\n",
    "    fw.SaveImg(DFFT.GistDFFT(fft_image),'DFFT_Images',image_path)\n"
   ]
  },
  {
   "cell_type": "code",
   "execution_count": null,
   "metadata": {},
   "outputs": [],
   "source": [
    "src_path='stripes'\n",
    "dist_path='Notch'\n",
    "for image_path in fw.ReadAll(src_path+os.path.sep):\n",
    "    print(image_path)\n",
    "    img=fw.ReadImg(os.path.join(src_path,image_path) )\n",
    "    q,dmz,h_zone=0.998,15,8\n",
    "    quantile=filt.Notch(img,q=q,dmz=dmz,hazard_zone=h_zone)\n",
    "    vs.CompareImages(img,quantile,save=True,dir_path=dist_path,names=[image_path,'q='+str(q)])"
   ]
  },
  {
   "cell_type": "code",
   "execution_count": null,
   "metadata": {},
   "outputs": [],
   "source": [
    "src_path='stripes'\n",
    "dist_path= 'Gauss_Q'\n",
    "\n",
    "for image_path in fw.ReadAll(src_path+os.path.sep):\n",
    "    print(image_path)\n",
    "    img=fw.ReadImg(os.path.join(src_path,image_path) )\n",
    "    gauss=filt.Gauss(img,21)\n",
    "    q,dmz,h_zone=0.998,15,8\n",
    "\n",
    "    quantile=filt.Notch(gauss,q=q,dmz=dmz,hazard_zone=h_zone)\n",
    "    vs.CompareImages(img,quantile,save=True,dir_path=dist_path,names=[image_path,'q='+str(q)])"
   ]
  }
 ],
 "metadata": {
  "interpreter": {
   "hash": "ac59ebe37160ed0dfa835113d9b8498d9f09ceb179beaac4002f036b9467c963"
  },
  "kernelspec": {
   "display_name": "Python 3.9.7 64-bit",
   "language": "python",
   "name": "python3"
  },
  "language_info": {
   "codemirror_mode": {
    "name": "ipython",
    "version": 3
   },
   "file_extension": ".py",
   "mimetype": "text/x-python",
   "name": "python",
   "nbconvert_exporter": "python",
   "pygments_lexer": "ipython3",
   "version": "3.9.7"
  },
  "orig_nbformat": 4
 },
 "nbformat": 4,
 "nbformat_minor": 2
}
